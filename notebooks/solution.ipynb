{
 "cells": [
  {
   "cell_type": "markdown",
   "metadata": {},
   "source": [
    "# 📓 Data Science Homework\n",
    "Fill in the code blocks and markdown cells as instructed below."
   ]
  },
  {
   "cell_type": "markdown",
   "metadata": {},
   "source": [
    "## Descriptive Statistics"
   ]
  },
  {
   "cell_type": "code",
   "execution_count": null,
   "metadata": {},
   "outputs": [],
   "source": [
    "# TODO: Load the dataset and compute mean, median, mode, std, IQR\n",
    "\n",
    "import pandas as pd\n",
    "import numpy as np\n",
    "\n",
    "df = pd.read_csv('../data/ACCIDENTS_GU_BCN_2013.csv')\n",
    "\n",
    "victims = df['Número de víctimes']\n",
    "\n",
    "print(\"Mean:\", victims.mean())\n",
    "print(\"Median:\", victims.median())\n",
    "print(\"Mode:\", victims.mode()[0])\n",
    "print(\"Standard Deviation:\", victims.std())\n",
    "print(\"IQR:\", victims.quantile(0.75) - victims.quantile(0.25))\n"
   ]
  },
  {
   "cell_type": "markdown",
   "metadata": {},
   "source": [
    "## Visualizations (Histogram, KDE, Boxplot, Heatmap)"
   ]
  },
  {
   "cell_type": "code",
   "execution_count": null,
   "metadata": {},
   "outputs": [],
   "source": [
    "# TODO: Plot histogram, KDE, boxplot, and correlation heatmap\n",
    "\n",
    "import matplotlib.pyplot as plt\n",
    "import seaborn as sns\n",
    "\n",
    "sns.histplot(victims, bins=15, kde=False)\n",
    "plt.title('Histogram of Number of Victims')\n",
    "plt.show()\n",
    "\n",
    "sns.kdeplot(victims.dropna(), fill=True)\n",
    "plt.title('KDE of Number of Victims')\n",
    "plt.show()\n",
    "\n",
    "sns.boxplot(x=victims)\n",
    "plt.title('Boxplot of Number of Victims')\n",
    "plt.show()\n",
    "\n",
    "plt.figure(figsize=(10,6))\n",
    "sns.heatmap(df.corr(numeric_only=True), annot=True, cmap='coolwarm')\n",
    "plt.title('Correlation Heatmap')\n",
    "plt.show()\n"
   ]
  },
  {
   "cell_type": "markdown",
   "metadata": {},
   "source": [
    "## Bootstrap Confidence Interval"
   ]
  },
  {
   "cell_type": "code",
   "execution_count": null,
   "metadata": {},
   "outputs": [],
   "source": [
    "# TODO: Bootstrap sample mean and CI (e.g., for 'Número de víctimes')\n",
    "\n",
    "boot_means = [victims.sample(frac=1, replace=True).mean() for _ in range(1000)]\n",
    "\n",
    "# 95% CI\n",
    "ci_lower = np.percentile(boot_means, 2.5)\n",
    "ci_upper = np.percentile(boot_means, 97.5)\n",
    "print(f'95% CI for mean victims: ({ci_lower:.2f}, {ci_upper:.2f})')\n"
   ]
  },
  {
   "cell_type": "markdown",
   "metadata": {},
   "source": [
    "## Hypothesis Testing"
   ]
  },
  {
   "cell_type": "code",
   "execution_count": null,
   "metadata": {},
   "outputs": [],
   "source": [
    "# TODO: Perform a t-test (e.g., is mean != 1?) and interpret the result\n",
    "\n",
    "from scipy.stats import ttest_1samp\n",
    "t_stat, p_val = ttest_1samp(victims.dropna(), popmean=1)\n",
    "print(f't-statistic: {t_stat:.2f}, p-value: {p_val:.4f}')\n",
    "\n",
    "if p_val < 0.05:\n",
    "    print('Reject null hypothesis: mean is significantly different from 1')\n",
    "else:\n",
    "    print('Fail to reject null hypothesis')\n"
   ]
  }
 ],
 "metadata": {
  "kernelspec": {
   "display_name": "Python 3",
   "language": "python",
   "name": "python3"
  },
  "language_info": {
   "name": "python",
   "version": "3.9"
  }
 },
 "nbformat": 4,
 "nbformat_minor": 4
}
